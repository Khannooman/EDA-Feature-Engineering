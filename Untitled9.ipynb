{
 "cells": [
  {
   "cell_type": "code",
   "execution_count": 5,
   "id": "90b82626",
   "metadata": {},
   "outputs": [
    {
     "name": "stdout",
     "output_type": "stream",
     "text": [
      "{'Harry': 'Exeed Expectation', 'Ron': 'Acceptable', 'Hermione': 'Outstanding', 'Draco': 'Acceptable', 'Naviele': 'Fail'}\n",
      "Harry = Exeed Expectation\n",
      "Ron = Acceptable\n",
      "Hermione = Outstanding\n",
      "Draco = Acceptable\n",
      "Naviele = Fail\n"
     ]
    }
   ],
   "source": [
    "student_scores={\n",
    "    \"Harry\":81,\n",
    "    \"Ron\":78,\n",
    "    \"Hermione\":99,\n",
    "    \"Draco\":74,\n",
    "    \"Naviele\":62\n",
    "}\n",
    "\n",
    "student_grades={}\n",
    "for key in student_scores:\n",
    "    if student_scores[key]>=91:\n",
    "        student_grades[key]=\"Outstanding\"\n",
    "    elif student_scores[key]>=81:\n",
    "          student_grades[key]=\"Exeed Expectation\"\n",
    "    elif student_scores[key]>=71:\n",
    "        student_grades[key]=\"Acceptable\"\n",
    "    else:\n",
    "          student_grades[key]=\"Fail\"\n",
    "        \n",
    "print(student_grades)\n",
    "for i,j in student_grades.items():\n",
    "    print(i,\"=\",j)\n",
    "        \n",
    "    "
   ]
  },
  {
   "cell_type": "code",
   "execution_count": 8,
   "id": "f20a22a1",
   "metadata": {},
   "outputs": [
    {
     "data": {
      "text/plain": [
       "{'France': {'Cities_Visited': ['Paris', 'Lille', 'Dijon'], 'Total_Visit': 12},\n",
       " 'Terkey': {'Terkey_Visisted': ['Sogut', 'Bursa', 'Koniya', 'Anagol']}}"
      ]
     },
     "execution_count": 8,
     "metadata": {},
     "output_type": "execute_result"
    }
   ],
   "source": [
    "Travel_log={\n",
    "    \"France\":{\"Cities_Visited\":[\"Paris\",\"Lille\",\"Dijon\"],\"Total_Visit\":12},\n",
    "    \"Terkey\":{\"Terkey_Visisted\":[\"Sogut\",\"Bursa\",\"Koniya\",\"Anagol\"]}\n",
    "    \n",
    "}\n",
    "Travel_log"
   ]
  },
  {
   "cell_type": "code",
   "execution_count": 21,
   "id": "727a2fbf",
   "metadata": {},
   "outputs": [
    {
     "data": {
      "text/plain": [
       "[{'Country': 'France',\n",
       "  'Cities_Visited': ['Paris', 'Lille', 'Dijon'],\n",
       "  'Total_Visit': 12},\n",
       " {'Country': 'Terkey',\n",
       "  'Terkey_Visisted': ['Sogut', 'Bursa', 'Koniya', 'Anagol'],\n",
       "  'Total_Visit': 12},\n",
       " {'Country': 'Russia',\n",
       "  'Cities_visited': ['Moscow', 'Saint Petersburg'],\n",
       "  'Total_Visit': 2}]"
      ]
     },
     "execution_count": 21,
     "metadata": {},
     "output_type": "execute_result"
    }
   ],
   "source": [
    "Travel_log=[\n",
    "    {\n",
    "        \"Country\":\"France\",\n",
    "        \"Cities_Visited\":[\"Paris\",\"Lille\",\"Dijon\"],\n",
    "        \"Total_Visit\":12\n",
    "    }\n",
    "    ,\n",
    "    {\n",
    "        \"Country\":\"Terkey\",\n",
    "        \"Terkey_Visisted\":[\"Sogut\",\"Bursa\",\"Koniya\",\"Anagol\"],\n",
    "        \"Total_Visit\":12\n",
    "    }\n",
    "]\n",
    "# Travel_log[0][\"Cities_Visited\"][1]\n",
    "# Travel_log.append({\n",
    "#                     \"Country\":\"Russia\",\n",
    "#                     \"Russia_Visited\":[\"Moscow\", \"Saint Petersburg\"],\n",
    "#                     \"Total_Visit\":2})\n",
    "# Travel_log\n",
    "def add_new_country(Country,Cities_visited,Total_Visit):\n",
    "    new_country={}\n",
    "    new_country[\"Country\"]=Country\n",
    "    new_country[\"Cities_visited\"]=Cities_visited\n",
    "    new_country[\"Total_Visit\"]=Total_Visit\n",
    "    Travel_log.append(new_country)\n",
    "add_new_country(\"Russia\",[\"Moscow\", \"Saint Petersburg\"],2)\n",
    "Travel_log\n",
    "\n",
    "                  "
   ]
  },
  {
   "cell_type": "code",
   "execution_count": null,
   "id": "5e1493b6",
   "metadata": {},
   "outputs": [],
   "source": []
  },
  {
   "cell_type": "code",
   "execution_count": 38,
   "id": "d5c26054",
   "metadata": {},
   "outputs": [
    {
     "name": "stdout",
     "output_type": "stream",
     "text": [
      "\n",
      "                         ___________\n",
      "                         \\         /\n",
      "                          )_______(\n",
      "                          |\"\"\"\"\"\"\"|_.-._,.---------.,_.-._\n",
      "                          |       | | |               | | ''-.\n",
      "                          |       |_| |_             _| |_..-'\n",
      "                          |_______| '-' `'---------'` '-'\n",
      "                          )\"\"\"\"\"\"\"(\n",
      "                         /_________\\\n",
      "                       .-------------.\n",
      "                      /_______________\\\n",
      "\n",
      "Enter the Your Name: Nooman\n",
      "Enter the Your Bid: $500\n",
      "are there any other participants? yes\n",
      "Enter the Your Name: Khan\n",
      "Enter the Your Bid: $800\n",
      "are there any other participants? no\n",
      "{'Nooman': '500', 'Khan': '800'}\n",
      "500\n",
      "800\n",
      "The winner is Khan with the highest_amount of 800\n"
     ]
    }
   ],
   "source": [
    "logo = '''\n",
    "                         ___________\n",
    "                         \\         /\n",
    "                          )_______(\n",
    "                          |\"\"\"\"\"\"\"|_.-._,.---------.,_.-._\n",
    "                          |       | | |               | | ''-.\n",
    "                          |       |_| |_             _| |_..-'\n",
    "                          |_______| '-' `'---------'` '-'\n",
    "                          )\"\"\"\"\"\"\"(\n",
    "                         /_________\\\\\n",
    "                       .-------------.\n",
    "                      /_______________\\\\\n",
    "'''\n",
    "print(logo)\n",
    "Bids={}\n",
    "bidding_finish=False\n",
    "\n",
    "while not bidding_finish:\n",
    "  name=input(\"Enter the Your Name: \")\n",
    "  price=input(\"Enter the Your Bid: $\")\n",
    "  Bids[name]=price\n",
    "  should_countinue=input(\"are there any other participants? \")\n",
    "  if  should_countinue==\"no\":\n",
    "    bidding_finish=True\n",
    "#   elif should_countinue==\"yes\":\n",
    "#     clear()\n",
    "print(Bids)\n",
    "highest_bid=0\n",
    "for i in Bids:\n",
    "  highest_amount=int(Bids[i])\n",
    "  print(highest_amount)\n",
    "  if highest_amount>highest_bid:\n",
    "    highest_bid=highest_amount\n",
    "    winner=i\n",
    "print(f\"The winner is {winner} with the highest_amount of {int(Bids[i])}\")"
   ]
  },
  {
   "cell_type": "code",
   "execution_count": 44,
   "id": "3c6d0811",
   "metadata": {},
   "outputs": [
    {
     "name": "stdout",
     "output_type": "stream",
     "text": [
      "the pain required is 2 galon\n"
     ]
    }
   ],
   "source": [
    "import math\n",
    "def requerment_of_paint(h,b,coverage):\n",
    "    paint_reqiuered=(h*b)/coverage\n",
    "    print(f\"the pain required is {math.ceil(paint_reqiuered)} galon\")\n",
    "requerment_of_paint(2,4,5)\n",
    "    "
   ]
  },
  {
   "cell_type": "code",
   "execution_count": 69,
   "id": "d546acd9",
   "metadata": {},
   "outputs": [],
   "source": [
    "def prime_checker(n):\n",
    "    if n>1:\n",
    "        for i in range(2,n):\n",
    "            if n%i==0:\n",
    "                print(f\" {n} Not is a prime number\")\n",
    "        else:\n",
    "            print(f\" {n} a prime number\")\n",
    "    else:\n",
    "        print(f\"{n} is Not a Prime Nor a Composite number\")\n",
    "            \n",
    "#     if n>1:\n",
    "#         for i in range(1,n+1):\n",
    "#             for j in range(2,i):\n",
    "#                 if i%j==0:\n",
    "#                     break\n",
    "#                     print(\"The number is composite\")\n",
    "#                 else:\n",
    "#                     print(\"The number is prime\")\n",
    "#     else:\n",
    "#         print(\"The number is neither prime nor composite\")"
   ]
  },
  {
   "cell_type": "code",
   "execution_count": 70,
   "id": "891b376c",
   "metadata": {},
   "outputs": [
    {
     "name": "stdout",
     "output_type": "stream",
     "text": [
      "1 is Not a Prime Nor a Composite number\n"
     ]
    }
   ],
   "source": [
    "prime_checker(1)"
   ]
  },
  {
   "cell_type": "code",
   "execution_count": 1,
   "id": "b8d8ef13",
   "metadata": {},
   "outputs": [
    {
     "name": "stdout",
     "output_type": "stream",
     "text": [
      "Enter The Word: Nooman\n",
      "Enter The shifting Number800\n",
      "HiiguhEnter The CodeHiiguh\n",
      "Enter the second shifting Number800\n",
      "Nooman"
     ]
    }
   ],
   "source": [
    "Word=input(\"Enter The Word: \")\n",
    "shift=int(input(\"Enter The shifting Number\"))\n",
    "    \n",
    "alphabate=['a','b','c','d','e','f','g','h','i','j','k','l','m','n','o','p','q','r','s','t','u'\n",
    "           ,'v','w','x','y','z']\n",
    "Alphabate=['A','B','C','D','E','F','G','H','I','J','K','L','M','N','O','P','Q','R','S','T','U',\n",
    "           'V','W','X','Y','Z']\n",
    "encode=[]\n",
    "#     Word=input(\"Enter a Word: \").lower()\n",
    "\n",
    "lis_of_word=list(Word)\n",
    "\n",
    "#     shift=int(input(\"Enter shift Number: \"))\n",
    "for i in lis_of_word:\n",
    "    if i in alphabate:\n",
    "        if i==\" \":\n",
    "            encode.append(i)\n",
    "        else:\n",
    "            encode.append(alphabate[(alphabate.index(i)+shift)%26])\n",
    "    else:\n",
    "        if i==\" \":\n",
    "            encode.append(i)\n",
    "        else:\n",
    "            encode.append(Alphabate[(Alphabate.index(i)+shift)%26])\n",
    "for i in encode:\n",
    "    print(i,end='')\n",
    "code=input(\"Enter The Code\")\n",
    "final=[]\n",
    "second_shift=int(input(\"Enter the second shifting Number\"))\n",
    "for i in code:\n",
    "    if i in alphabate:\n",
    "        if i==\" \":\n",
    "            final.append(i)\n",
    "        else:\n",
    "            final.append(alphabate[(alphabate.index(i)-shift)%26])\n",
    "    else:\n",
    "        if i==\" \":\n",
    "            final.append(i)\n",
    "        else:\n",
    "            final.append(Alphabate[(Alphabate.index(i)-shift)%26])\n",
    "\n",
    "\n",
    "for i in final:\n",
    "    print(i,end='')\n",
    "    "
   ]
  },
  {
   "cell_type": "code",
   "execution_count": 137,
   "id": "59b7b077",
   "metadata": {},
   "outputs": [
    {
     "name": "stdout",
     "output_type": "stream",
     "text": [
      "dmwler Oler"
     ]
    }
   ],
   "source": [
    "encrypt(\"zishan Khan\",30)"
   ]
  },
  {
   "cell_type": "code",
   "execution_count": 29,
   "id": "fab92196",
   "metadata": {},
   "outputs": [
    {
     "name": "stdout",
     "output_type": "stream",
     "text": [
      "Enter the first Name: NOOmaN\n",
      "Enter the last Name: AyESha\n",
      "result: Nooman Ayesha\n"
     ]
    }
   ],
   "source": [
    "def formated_name(f_name,l_name):\n",
    "    if f_name==\"\" or l_name==\"\":\n",
    "        return \"you are not putting any name\"\n",
    "    formated_f_name=f_name.title()\n",
    "    formated_l_name=l_name.title()\n",
    "    return rf\"result: {formated_f_name} {formated_l_name}\"\n",
    " \n",
    "\n",
    "print(formated_name(input(\"Enter the first Name: \"),input(\"Enter the last Name: \")))\n",
    " \n",
    "\n",
    "\n"
   ]
  },
  {
   "cell_type": "code",
   "execution_count": 63,
   "id": "b3ef92f1",
   "metadata": {},
   "outputs": [],
   "source": [
    "def leap_year(n,m):\n",
    "    month=[31,28,31,30,31,30,31,3,30,31,30,31]\n",
    "    if m==2:\n",
    "        if n%4==0:\n",
    "            return \"This year is leap year thats No of days in this month is: \",29\n",
    "             \n",
    "        else:\n",
    "            return month[m-1]\n",
    "    else:\n",
    "        return month[m-1]\n",
    "    \n",
    "    "
   ]
  },
  {
   "cell_type": "code",
   "execution_count": 64,
   "id": "d54ad120",
   "metadata": {},
   "outputs": [
    {
     "data": {
      "text/plain": [
       "('This year is leap year thats No of days in this month is: ', 29)"
      ]
     },
     "execution_count": 64,
     "metadata": {},
     "output_type": "execute_result"
    }
   ],
   "source": [
    "leap_year(2024,2)\n"
   ]
  },
  {
   "cell_type": "code",
   "execution_count": 28,
   "id": "37261dde",
   "metadata": {},
   "outputs": [
    {
     "ename": "SyntaxError",
     "evalue": "invalid syntax (1245689750.py, line 10)",
     "output_type": "error",
     "traceback": [
      "\u001b[1;36m  Input \u001b[1;32mIn [28]\u001b[1;36m\u001b[0m\n\u001b[1;33m    output=return f\"{n}{operation}{k}\"\u001b[0m\n\u001b[1;37m           ^\u001b[0m\n\u001b[1;31mSyntaxError\u001b[0m\u001b[1;31m:\u001b[0m invalid syntax\n"
     ]
    }
   ],
   "source": [
    "n=int(input(\"Enter the First Number\"))\n",
    "print(\" +\\n\",\"-\\n\",\"*\\n\",\"/\\n\")\n",
    "lis=[\"+\",\"-\",\"*\",\"/\"]\n",
    "operation=input(\"What operation You Want\")\n",
    "flag=False\n",
    "A=0\n",
    "while flag==False:\n",
    "    if operation in lis:\n",
    "        k=int(input(\"Enter The Number\"))\n",
    "        output=return f\"{n}{operation}{k}\"\n",
    "        A=A+f\"{output}{operation}{k}\"\n",
    "\n",
    "        again=input(\"any other opetion\")\n",
    "        if again==\"yes\":\n",
    "            flag=False\n",
    "            \n",
    "\n",
    "        else:\n",
    "            flag=True\n",
    "    print(A)\n",
    "            \n",
    "\n",
    "        \n",
    "#     else:\n",
    "#         print(\"Please second above ,mention operation\")\n",
    "\n",
    "      \n",
    "\n",
    "\n"
   ]
  },
  {
   "cell_type": "code",
   "execution_count": 14,
   "id": "21ed1708",
   "metadata": {},
   "outputs": [],
   "source": []
  },
  {
   "cell_type": "code",
   "execution_count": 11,
   "id": "400be48a",
   "metadata": {},
   "outputs": [
    {
     "name": "stdout",
     "output_type": "stream",
     "text": [
      "Enter the first number: 5\n",
      "+\n",
      "-\n",
      "*\n",
      "/\n",
      "What operation you want? +\n",
      "Enter the 2nd number: 5\n",
      "5 + 5=10\n",
      "Any other operation you want? n\n",
      "Thanks For Using MY CALCULATOR your answer is 10\n"
     ]
    }
   ],
   "source": [
    "def addition(n1,n2):\n",
    "    return n1+n2\n",
    "def subtract(n1,n2):\n",
    "    return n1-n2\n",
    "def multiplication(n1,n2):\n",
    "    return n1*n2\n",
    "def divide(n1,n2):\n",
    "    return n1/n2\n",
    "operation={\"+\":addition,\n",
    "           \"-\":subtract,\n",
    "           \"*\": multiplication,\n",
    "           \"/\": divide\n",
    "\n",
    "}\n",
    "num1=int(input(\"Enter the first number: \"))\n",
    "flag=True\n",
    "while flag:\n",
    "    \n",
    "\n",
    "    for symbol in operation:\n",
    "        print(symbol)\n",
    "    operation_symbol=input(\"What operation you want? \")\n",
    "    num2=int(input(\"Enter the 2nd number: \"))\n",
    "    calculated_function=operation[operation_symbol]\n",
    "    answer=calculated_function(num1,num2)\n",
    "    print(f\"{num1} {operation_symbol} {num2}={answer}\")\n",
    "    ask=input(\"Any other operation you want? \")\n",
    "    if ask==\"y\":\n",
    "        num1=answer\n",
    "    else:\n",
    "        print(f\"Thanks For Using MY CALCULATOR your answer is {answer}\")\n",
    "        flag=False\n",
    "\n",
    "\n",
    " "
   ]
  },
  {
   "cell_type": "code",
   "execution_count": null,
   "id": "58031c84",
   "metadata": {},
   "outputs": [],
   "source": []
  }
 ],
 "metadata": {
  "kernelspec": {
   "display_name": "Python 3 (ipykernel)",
   "language": "python",
   "name": "python3"
  },
  "language_info": {
   "codemirror_mode": {
    "name": "ipython",
    "version": 3
   },
   "file_extension": ".py",
   "mimetype": "text/x-python",
   "name": "python",
   "nbconvert_exporter": "python",
   "pygments_lexer": "ipython3",
   "version": "3.9.12"
  }
 },
 "nbformat": 4,
 "nbformat_minor": 5
}
